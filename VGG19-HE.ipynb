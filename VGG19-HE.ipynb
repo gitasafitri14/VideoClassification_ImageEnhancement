{
 "cells": [
  {
   "cell_type": "code",
   "execution_count": null,
   "metadata": {},
   "outputs": [],
   "source": [
    "!pip install split-folders\n",
    "\n",
    "import os\n",
    "import cv2\n",
    "import PIL\n",
    "import numpy as np\n",
    "from PIL import Image\n",
    "import matplotlib.pyplot as plt\n",
    "from sklearn import preprocessing, neighbors\n",
    "from sklearn.model_selection import train_test_split\n",
    "\n",
    "path = r\"Data1/Hasil/CLAHE\"\n",
    "path_split = r\"Data1/datasplit/CLAHE\"\n",
    "kelas = os.listdir(path)\n",
    "dataset = path\n",
    "print(\"Daftar kelas = \",kelas,\"\\n\\nBanyak kelas = \", len(kelas))"
   ]
  },
  {
   "cell_type": "code",
   "execution_count": null,
   "metadata": {},
   "outputs": [],
   "source": [
    "import os\n",
    "\n",
    "dataset=\"Data1/Hasil/CLAHE\"\n",
    "def daftar_file(startpath):\n",
    "    for root, dirs, files in os.walk(startpath):\n",
    "        level = root.replace(startpath, '').count(os.sep)\n",
    "        indent = ' ' * 4 * (level)\n",
    "        print('{}{}/'.format(indent, os.path.basename(root)))\n",
    "        subindent = ' ' * 4 * (level + 1)\n",
    "        for f in files:\n",
    "            print('{}{}'.format(subindent, f))\n",
    "\n",
    "daftar_file(dataset)"
   ]
  },
  {
   "cell_type": "code",
   "execution_count": null,
   "metadata": {},
   "outputs": [],
   "source": [
    "import os\n",
    "import shutil\n",
    "from sklearn.model_selection import train_test_split\n",
    "\n",
    "# Tentukan path ke dataset Anda\n",
    "dataset_path = path\n",
    "\n",
    "# Tentukan path ke direktori di mana Anda ingin menyimpan dataset terbagi\n",
    "output_path = path_split\n",
    "\n",
    "# Tentukan rasio pembagian yang diinginkan (80% pelatihan, 20% pengujian)\n",
    "train_ratio = 0.8\n",
    "test_ratio = 0.2\n",
    "\n",
    "# List semua subdirektori dalam path dataset (diasumsikan setiap subdirektori adalah satu kelas)\n",
    "class_folders = [folder for folder in os.listdir(dataset_path) if os.path.isdir(os.path.join(dataset_path, folder))]\n",
    "\n",
    "# Buat direktori output untuk set pelatihan dan pengujian\n",
    "train_output_path = os.path.join(output_path, 'train')\n",
    "test_output_path = os.path.join(output_path, 'test')\n",
    "\n",
    "os.makedirs(train_output_path, exist_ok=True)\n",
    "os.makedirs(test_output_path, exist_ok=True)\n",
    "\n",
    "# Iterasi untuk setiap folder kelas\n",
    "for class_folder in class_folders:\n",
    "    class_path = os.path.join(dataset_path, class_folder)\n",
    "    # List semua file dalam folder kelas saat ini\n",
    "    all_files = [file for file in os.listdir(class_path) if os.path.isfile(os.path.join(class_path, file))]\n",
    "    # Bagi file-file tersebut menjadi set pelatihan dan pengujian\n",
    "    train_files, test_files = train_test_split(all_files, test_size=test_ratio, random_state=42)\n",
    "    \n",
    "    # Pindahkan gambar-gambar set pelatihan ke direktori pelatihan\n",
    "    for file in train_files:\n",
    "        src_path = os.path.join(class_path, file)\n",
    "        dst_path = os.path.join(train_output_path, class_folder, file)\n",
    "        os.makedirs(os.path.dirname(dst_path), exist_ok=True)\n",
    "        shutil.copy(src_path, dst_path)\n",
    "\n",
    "    # Pindahkan gambar-gambar set pengujian ke direktori pengujian\n",
    "    for file in test_files:\n",
    "        src_path = os.path.join(class_path, file)\n",
    "        dst_path = os.path.join(test_output_path, class_folder, file)\n",
    "        os.makedirs(os.path.dirname(dst_path), exist_ok=True)\n",
    "        shutil.copy(src_path, dst_path)"
   ]
  },
  {
   "cell_type": "code",
   "execution_count": 1,
   "metadata": {},
   "outputs": [],
   "source": [
    "import pandas as pd\n",
    "import random\n",
    "from IPython.display import Image\n",
    "import matplotlib.pyplot as plt\n",
    "import seaborn as sns\n",
    "import os\n",
    "import cv2\n",
    "import numpy as np\n",
    "\n",
    "from keras.utils import plot_model\n",
    "from sklearn.metrics import classification_report\n",
    "from collections import Counter\n",
    "import tensorflow as tf\n",
    "\n",
    "import keras\n",
    "from tensorflow.keras.preprocessing.image import ImageDataGenerator\n",
    "from keras.callbacks import ReduceLROnPlateau\n",
    "from tensorflow.keras.applications.vgg19 import VGG19\n",
    "\n",
    "from keras import Model, layers\n",
    "from keras.models import Sequential\n",
    "from keras.optimizers import Adam, SGD\n",
    "from keras.layers import GlobalMaxPooling2D, GlobalAveragePooling2D, Dropout, Dense, Input, Conv2D, MaxPooling2D, Flatten,MaxPooling3D"
   ]
  },
  {
   "cell_type": "code",
   "execution_count": 2,
   "metadata": {},
   "outputs": [],
   "source": [
    "# re-size all the images to this\n",
    "IMAGE_SIZE = (320, 320, 3)\n",
    "train_path= 'Data1/datasplit/CLAHE/train'\n",
    "test_path = 'Data1/datasplit/CLAHE/test'"
   ]
  },
  {
   "cell_type": "code",
   "execution_count": 3,
   "metadata": {},
   "outputs": [
    {
     "name": "stdout",
     "output_type": "stream",
     "text": [
      "Banyak citra di training set: 9083\n",
      "Banyak citra di testing set: 2274\n",
      "Total citra: 11357\n"
     ]
    }
   ],
   "source": [
    "quantity_train = {} \n",
    "quantity_test = {}\n",
    "for folder in os.listdir(train_path):\n",
    "    quantity_train[folder] = len(os.listdir(train_path+'/'+folder))\n",
    "\n",
    "for folder in os.listdir(test_path):\n",
    "    quantity_test[folder] = len(os.listdir(test_path+'/'+folder))\n",
    "\n",
    "\n",
    "quantity_train = pd.DataFrame(list(quantity_train.items()), index=range(0,len(quantity_train)), columns=['class','count'])\n",
    "quantity_test = pd.DataFrame(list(quantity_test.items()), index=range(0,len(quantity_test)), columns=['class','count'])\n",
    "\n",
    "# figure, ax = plt.subplots(1,2,figsize=(20,5))\n",
    "# sns.barplot(x='class',y='count',data=quantity_train,ax=ax[0])\n",
    "# sns.barplot(x='class',y='count',data=quantity_test,ax=ax[1])\n",
    "\n",
    "print(\"Banyak citra di training set:\", sum(quantity_train['count'].values))\n",
    "print(\"Banyak citra di testing set:\",sum(quantity_test['count'].values))\n",
    "print(\"Total citra:\",sum(quantity_train['count'].values)+sum(quantity_test['count'].values))\n",
    "\n",
    "# plt.show()"
   ]
  },
  {
   "cell_type": "code",
   "execution_count": 4,
   "metadata": {},
   "outputs": [],
   "source": [
    "def save_history(history, model_name):\n",
    "    #convert the history.history dict to a pandas DataFrame:     \n",
    "    hist_df = pd.DataFrame(history.history) \n",
    "\n",
    "    # save ke json \n",
    "    hist_json_file = model_name+'_history.json' \n",
    "    with open(hist_json_file, mode='w') as f:\n",
    "        hist_df.to_json(f)\n",
    "\n",
    "    # or save ke csv \n",
    "    hist_csv_file = model_name+'_history.csv'\n",
    "    with open(hist_csv_file, mode='w') as f:\n",
    "        hist_df.to_csv(f)\n",
    "        \n",
    "def plot_accuracy_from_history(history, isinception=False):\n",
    "  try:\n",
    "    color = sns.color_palette()\n",
    "    if(isinception == False):\n",
    "        acc = history.history['acc']\n",
    "        val_acc = history.history['val_acc']\n",
    "    else:\n",
    "        acc = history.history['accuracy']\n",
    "        val_acc = history.history['val_accuracy']\n",
    "    \n",
    "\n",
    "    epochs = range(len(acc))\n",
    "\n",
    "    sns.lineplot(epochs, acc, label='Training Accuracy')\n",
    "    sns.lineplot(epochs, val_acc,label='Validation Accuracy')\n",
    "    plt.title('Training and Validation Accuracy')\n",
    "    plt.legend()\n",
    "    plt.figure()\n",
    "    plt.show()\n",
    "  except TypeError:\n",
    "    pass\n",
    "    \n",
    "def plot_loss_from_history(history):\n",
    "  try:\n",
    "    color = sns.color_palette()\n",
    "    loss = history.history['loss']\n",
    "    val_loss = history.history['val_loss']\n",
    "    \n",
    "    epochs = range(len(loss))\n",
    "    \n",
    "    sns.lineplot(epochs, loss,label='Training Loss')\n",
    "    sns.lineplot(epochs, val_loss, label='Validation Loss')\n",
    "    plt.title('Training and Validation Loss')\n",
    "    plt.legend()\n",
    "    plt.figure()\n",
    "    plt.show()\n",
    "  except TypeError:\n",
    "    pass\n",
    "    \n",
    "def do_history_stuff(history, history_file_name, isinception=False):\n",
    "    save_history(history, history_file_name)\n",
    "    plot_accuracy_from_history(history, isinception)\n",
    "    plot_loss_from_history(history)"
   ]
  },
  {
   "cell_type": "code",
   "execution_count": 5,
   "metadata": {},
   "outputs": [],
   "source": [
    "def show_few_images(number_of_examples=2, predict_using_model=None):\n",
    "    figure1, ax1 = plt.subplots(number_of_examples,len(os.listdir(train_path)), figsize=(20,4*number_of_examples))\n",
    "    ax1 = ax1.reshape(-1)\n",
    "    axoff_fun = np.vectorize(lambda ax:ax.axis('off'))\n",
    "    axoff_fun(ax1)\n",
    "    axs = 0\n",
    "    for i, folder in enumerate(os.listdir(train_path)):\n",
    "        image_ids = os.listdir(os.path.join(train_path,folder))\n",
    "        for j in [random.randrange(0, len(image_ids)) for i in range(0,number_of_examples)]:\n",
    "            display = plt.imread(os.path.join(train_path,folder,image_ids[j]))\n",
    "            plt.axis('off')\n",
    "            ax1[axs].imshow(display)\n",
    "            title = 'True:'+folder\n",
    "            if(predict_using_model):\n",
    "                predicted_classname = inv_map_classes[np.argmax(vgg19_final_model.predict(np.array([display])))]\n",
    "                title = title+'\\nPredict :'+predicted_classname\n",
    "            ax1[axs].set_title(title)\n",
    "            axs=axs+1"
   ]
  },
  {
   "cell_type": "code",
   "execution_count": 6,
   "metadata": {},
   "outputs": [],
   "source": [
    "tf.keras.backend.clear_session()"
   ]
  },
  {
   "cell_type": "code",
   "execution_count": 7,
   "metadata": {},
   "outputs": [],
   "source": [
    "import os\n",
    "def savePercobaan():\n",
    "  try: \n",
    "    os.mkdir(\"Model VGG-19\") \n",
    "  except OSError as error: \n",
    "    print(error)\n",
    "  saveModel()"
   ]
  },
  {
   "cell_type": "code",
   "execution_count": 8,
   "metadata": {},
   "outputs": [],
   "source": [
    "def saveModel():\n",
    "  try: \n",
    "    os.mkdir(\"percobaan\"+\"/model\") \n",
    "  except OSError as error: \n",
    "    print(error)"
   ]
  },
  {
   "cell_type": "code",
   "execution_count": 9,
   "metadata": {},
   "outputs": [
    {
     "name": "stdout",
     "output_type": "stream",
     "text": [
      "Found 7271 images belonging to 11 classes.\n",
      "Found 1812 images belonging to 11 classes.\n",
      "Found 2274 images belonging to 11 classes.\n"
     ]
    }
   ],
   "source": [
    "#normalisasi\n",
    "train_datagen = ImageDataGenerator(rescale = 1.0/255., validation_split=0.2, shear_range=0.2,zoom_range=0.2)\n",
    "train_generator19 = train_datagen.flow_from_directory(train_path, target_size=(224, 224), batch_size=32, shuffle=True, class_mode='categorical', subset='training')\n",
    "\n",
    "validation_generator19 = train_datagen.flow_from_directory(train_path, target_size=(224, 224), batch_size=32, class_mode='categorical', subset='validation')\n",
    "\n",
    "test_datagen = ImageDataGenerator(rescale = 1.0/255.,shear_range=0.2,zoom_range=0.2)\n",
    "test_generator19 = test_datagen.flow_from_directory(test_path, target_size=(224, 224), batch_size=1, shuffle=True, class_mode='categorical')"
   ]
  },
  {
   "cell_type": "code",
   "execution_count": 10,
   "metadata": {},
   "outputs": [
    {
     "name": "stdout",
     "output_type": "stream",
     "text": [
      "{0: 'basketball', 1: 'biking', 2: 'diving', 3: 'golf_swing', 4: 'horse_riding', 5: 'soccer_juggling', 6: 'swing', 7: 'tennis_swing', 8: 'trampoline_jumping', 9: 'volleyball_spiking', 10: 'walking'}\n"
     ]
    }
   ],
   "source": [
    "inv_map_classes = {v: k for k, v in validation_generator19.class_indices.items()}\n",
    "#print(validation_generator19.class_indices)\n",
    "print(inv_map_classes)"
   ]
  },
  {
   "attachments": {},
   "cell_type": "markdown",
   "metadata": {},
   "source": [
    "MODEL TRAINING\n"
   ]
  },
  {
   "cell_type": "code",
   "execution_count": 11,
   "metadata": {},
   "outputs": [],
   "source": [
    "from keras.layers import BatchNormalization\n",
    "def vgg19_training(vgg_epoch, learning_rate, batch_size, dropout_rate):\n",
    "  vgg19_model = VGG19(pooling='max', weights='imagenet', include_top=False, input_shape=(244,244,3), classes=11) #defaultnya AVERAGE POOLING\n",
    "  for layers in vgg19_model.layers:\n",
    "              layers.trainable=False\n",
    "\n",
    "  last_output_vgg19 = vgg19_model.layers[-1].output\n",
    "  vgg_19 = Flatten()(last_output_vgg19) #awalnya di bawah last output\n",
    "  vgg_19 = BatchNormalization()(vgg_19)\n",
    "  vgg_19 = Dense(512, activation = 'relu')(vgg_19)\n",
    "  vgg_19 = BatchNormalization()(vgg_19)\n",
    "  vgg_19 = Dropout(dropout_rate)(vgg_19)\n",
    "\n",
    "  #vgg_19 = Dense(64, activation = 'relu')(vgg_19)\n",
    "  #vgg_19 = Dropout(dropout_rate)(vgg_19)\n",
    "  vgg_19 = Dense(11, activation = 'softmax')(vgg_19)\n",
    "  vgg19_final_model = Model(vgg19_model.input, vgg_19)\n",
    "  \n",
    "  opt = Adam(learning_rate=learning_rate)\n",
    "  vgg19_final_model.compile(loss = 'categorical_crossentropy', optimizer= opt, metrics=['acc'])\n",
    "  #vgg19_final_model.summary()\n",
    "\n",
    "  plot_model(model=vgg19_final_model, show_shapes=True)\n",
    "\n",
    "  train_generator19.batch_size = batch_size\n",
    "\n",
    "  vgg19_filepath = '/model/vgg_19_'+'-saved-model-{epoch:02d}-acc-{val_acc:.2f}.hdf5'\n",
    "  vgg19_checkpoint = tf.keras.callbacks.ModelCheckpoint(vgg19_filepath, monitor='val_acc', verbose=1, save_best_only=True, mode='max')\n",
    "  early_stopping = tf.keras.callbacks.EarlyStopping(monitor='val_loss', patience=5)\n",
    "  vgg19_history = vgg19_final_model.fit(train_generator19, epochs = vgg_epoch, validation_data = validation_generator19,callbacks=[vgg19_checkpoint,early_stopping],verbose=1)\n",
    "\n",
    "  do_history_stuff (vgg19_history, 'vgg19_model')\n",
    "  save_vgg19(vgg19_final_model)\n",
    "\n",
    "  predictionTest(vgg19_final_model)\n",
    "\n",
    "  return(vgg19_final_model)"
   ]
  },
  {
   "cell_type": "code",
   "execution_count": 12,
   "metadata": {},
   "outputs": [],
   "source": [
    "def save_vgg19(vgg19_final_model):\n",
    "  vgg19_final_model.save(('percobaan'+'/vgg19-model'+'.h5'))"
   ]
  },
  {
   "cell_type": "code",
   "execution_count": 13,
   "metadata": {},
   "outputs": [],
   "source": [
    "def acc_plot(vgg19_history):\n",
    "  plt.figure(figsize=(10, 8))\n",
    "  plt.plot(vgg19_history.history['acc'], label='train acc')\n",
    "  plt.plot(vgg19_history.history['val_acc'], label='val acc')\n",
    "  plt.legend()\n",
    "  plt.title('Accuracy')\n",
    "  plt.show()"
   ]
  },
  {
   "cell_type": "code",
   "execution_count": 14,
   "metadata": {},
   "outputs": [],
   "source": [
    "def loss_plot(vgg19_history):\n",
    "  plt.figure(figsize=(10, 8))\n",
    "  plt.plot(vgg19_history.history['loss'], label='train l/oss')\n",
    "  plt.plot(vgg19_history.history['val_loss'], label='val loss')\n",
    "  plt.legend()\n",
    "  plt.title('Loss')\n",
    "  plt.show()"
   ]
  },
  {
   "cell_type": "code",
   "execution_count": 15,
   "metadata": {},
   "outputs": [],
   "source": [
    "def predictionTest(vgg19_final_model):\n",
    "  true_value = []\n",
    "  vgg_pred = []\n",
    "  for folder in os.listdir(test_path):\n",
    "      test_image_ids = os.listdir(os.path.join(test_path,folder))\n",
    "      \n",
    "      for image_id in test_image_ids[:int(len(test_image_ids))]:\n",
    "          path = os.path.join(test_path,folder,image_id)\n",
    "          true_value.append(test_generator19.class_indices[folder])\n",
    "          img = cv2.resize(cv2.imread(path),(244,244))\n",
    "          img_normalized = img/255\n",
    "          #vgg\n",
    "          vgg19_image_prediction = np.argmax(vgg19_final_model.predict(np.array([img_normalized]), verbose = 0)) #verbose biar gak ngeprint\n",
    "          vgg_pred.append(vgg19_image_prediction)\n",
    "\n",
    "  print(\"\\n\")\n",
    "  clf_report(true_value, vgg_pred)"
   ]
  },
  {
   "cell_type": "code",
   "execution_count": 16,
   "metadata": {},
   "outputs": [],
   "source": [
    "arr_accuracy19 = []\n",
    "from sklearn.metrics import confusion_matrix\n",
    "import itertools\n",
    "#from mlxtend.plotting import plot_confusion_matrix\n",
    "def clf_report(true_value, model_pred):\n",
    "    classes = validation_generator19.class_indices.keys()\n",
    "    TP_count = [true_value[i] == model_pred[i] for i in range(len(true_value))]\n",
    "    model_accuracy = np.sum(TP_count)/len(TP_count)\n",
    "    print('Model Accuracy', model_accuracy)\n",
    "    arr_accuracy19.append(model_accuracy)\n",
    "    plt.figure(figsize=(11,11))\n",
    "    cm = confusion_matrix(true_value,model_pred)\n",
    "    plt.imshow(cm,interpolation='nearest',cmap=plt.cm.viridis)\n",
    "    plt.title('Confusion Matrix')\n",
    "    plt.colorbar()\n",
    "    tick_marks = np.arange(len(classes))\n",
    "    plt.xticks(tick_marks, classes, rotation=45)\n",
    "    plt.yticks(tick_marks, classes)\n",
    "    thresh = cm.max()*0.8\n",
    "    for i,j in itertools.product(range(cm.shape[0]),range(cm.shape[1])):\n",
    "        plt.text(j,i,cm[i,j],\n",
    "                horizontalalignment=\"center\",\n",
    "                color=\"black\" if cm[i,j] > thresh else \"white\")\n",
    "        pass\n",
    "    \n",
    "    plt.ylabel('True Label')\n",
    "    plt.xlabel('Predicted Label')\n",
    "    pass\n",
    "    \n",
    "    plt.savefig(\"confusion_matrix19_nosegmented.png\")\n",
    "    print(classification_report(true_value, model_pred, target_names = list(classes)))"
   ]
  },
  {
   "cell_type": "code",
   "execution_count": 17,
   "metadata": {},
   "outputs": [
    {
     "name": "stdout",
     "output_type": "stream",
     "text": [
      "dict_keys(['basketball', 'biking', 'diving', 'golf_swing', 'horse_riding', 'soccer_juggling', 'swing', 'tennis_swing', 'trampoline_jumping', 'volleyball_spiking', 'walking'])\n"
     ]
    }
   ],
   "source": [
    "print(validation_generator19.class_indices.keys())"
   ]
  },
  {
   "cell_type": "code",
   "execution_count": 18,
   "metadata": {},
   "outputs": [
    {
     "name": "stdout",
     "output_type": "stream",
     "text": [
      "Empty DataFrame\n",
      "Columns: [Epoch, Learning Rate, Batch Size, Dropout Rate, Accuracy]\n",
      "Index: []\n"
     ]
    }
   ],
   "source": [
    "hasilTabel = pd.DataFrame(columns=['Epoch', 'Learning Rate', 'Batch Size', 'Dropout Rate','Accuracy'])\n",
    "print(hasilTabel)"
   ]
  },
  {
   "attachments": {},
   "cell_type": "markdown",
   "metadata": {},
   "source": [
    "RUN KODE"
   ]
  },
  {
   "cell_type": "code",
   "execution_count": 19,
   "metadata": {},
   "outputs": [
    {
     "name": "stdout",
     "output_type": "stream",
     "text": [
      "You must install pydot (`pip install pydot`) and install graphviz (see instructions at https://graphviz.gitlab.io/download/) for plot_model to work.\n",
      "Epoch 1/100\n",
      "228/228 [==============================] - ETA: 0s - loss: 1.3560 - acc: 0.6024\n",
      "Epoch 1: val_acc improved from -inf to 0.56457, saving model to /model\\vgg_19_-saved-model-01-acc-0.56.hdf5\n"
     ]
    },
    {
     "name": "stderr",
     "output_type": "stream",
     "text": [
      "c:\\Users\\Asus\\AppData\\Local\\Programs\\Python\\Python39\\lib\\site-packages\\keras\\src\\engine\\training.py:3000: UserWarning: You are saving your model as an HDF5 file via `model.save()`. This file format is considered legacy. We recommend using instead the native Keras format, e.g. `model.save('my_model.keras')`.\n",
      "  saving_api.save_model(\n"
     ]
    },
    {
     "name": "stdout",
     "output_type": "stream",
     "text": [
      "228/228 [==============================] - 878s 4s/step - loss: 1.3560 - acc: 0.6024 - val_loss: 1.3414 - val_acc: 0.5646\n",
      "Epoch 2/100\n",
      "228/228 [==============================] - ETA: 0s - loss: 0.6550 - acc: 0.7905\n",
      "Epoch 2: val_acc improved from 0.56457 to 0.61589, saving model to /model\\vgg_19_-saved-model-02-acc-0.62.hdf5\n",
      "228/228 [==============================] - 865s 4s/step - loss: 0.6550 - acc: 0.7905 - val_loss: 1.3317 - val_acc: 0.6159\n",
      "Epoch 3/100\n",
      "228/228 [==============================] - ETA: 0s - loss: 0.4856 - acc: 0.8374\n",
      "Epoch 3: val_acc improved from 0.61589 to 0.63687, saving model to /model\\vgg_19_-saved-model-03-acc-0.64.hdf5\n",
      "228/228 [==============================] - 867s 4s/step - loss: 0.4856 - acc: 0.8374 - val_loss: 1.3633 - val_acc: 0.6369\n",
      "Epoch 4/100\n",
      "228/228 [==============================] - ETA: 0s - loss: 0.4421 - acc: 0.8493\n",
      "Epoch 4: val_acc did not improve from 0.63687\n",
      "228/228 [==============================] - 865s 4s/step - loss: 0.4421 - acc: 0.8493 - val_loss: 1.3743 - val_acc: 0.6302\n",
      "Epoch 5/100\n",
      "228/228 [==============================] - ETA: 0s - loss: 0.3658 - acc: 0.8821\n",
      "Epoch 5: val_acc did not improve from 0.63687\n",
      "228/228 [==============================] - 868s 4s/step - loss: 0.3658 - acc: 0.8821 - val_loss: 1.3593 - val_acc: 0.6225\n",
      "Epoch 6/100\n",
      "228/228 [==============================] - ETA: 0s - loss: 0.3404 - acc: 0.8896\n",
      "Epoch 6: val_acc did not improve from 0.63687\n",
      "228/228 [==============================] - 865s 4s/step - loss: 0.3404 - acc: 0.8896 - val_loss: 1.4068 - val_acc: 0.6231\n",
      "Epoch 7/100\n",
      "228/228 [==============================] - ETA: 0s - loss: 0.3175 - acc: 0.8956\n",
      "Epoch 7: val_acc did not improve from 0.63687\n",
      "228/228 [==============================] - 866s 4s/step - loss: 0.3175 - acc: 0.8956 - val_loss: 1.3009 - val_acc: 0.6181\n",
      "Epoch 8/100\n",
      "228/228 [==============================] - ETA: 0s - loss: 0.2926 - acc: 0.9024\n",
      "Epoch 8: val_acc did not improve from 0.63687\n",
      "228/228 [==============================] - 865s 4s/step - loss: 0.2926 - acc: 0.9024 - val_loss: 1.4479 - val_acc: 0.6049\n",
      "Epoch 9/100\n",
      "228/228 [==============================] - ETA: 0s - loss: 0.2722 - acc: 0.9059\n",
      "Epoch 9: val_acc did not improve from 0.63687\n",
      "228/228 [==============================] - 868s 4s/step - loss: 0.2722 - acc: 0.9059 - val_loss: 1.4432 - val_acc: 0.6093\n",
      "Epoch 10/100\n",
      "228/228 [==============================] - ETA: 0s - loss: 0.2502 - acc: 0.9172\n",
      "Epoch 10: val_acc did not improve from 0.63687\n",
      "228/228 [==============================] - 868s 4s/step - loss: 0.2502 - acc: 0.9172 - val_loss: 1.4583 - val_acc: 0.6253\n",
      "Epoch 11/100\n",
      "228/228 [==============================] - ETA: 0s - loss: 0.2433 - acc: 0.9156\n",
      "Epoch 11: val_acc did not improve from 0.63687\n",
      "228/228 [==============================] - 865s 4s/step - loss: 0.2433 - acc: 0.9156 - val_loss: 1.5014 - val_acc: 0.6269\n",
      "Epoch 12/100\n",
      "228/228 [==============================] - ETA: 0s - loss: 0.2247 - acc: 0.9259\n",
      "Epoch 12: val_acc did not improve from 0.63687\n",
      "228/228 [==============================] - 871s 4s/step - loss: 0.2247 - acc: 0.9259 - val_loss: 1.4741 - val_acc: 0.6187\n",
      "\n",
      "\n",
      "Model Accuracy 0.8869832893579596\n",
      "                    precision    recall  f1-score   support\n",
      "\n",
      "        basketball       0.91      0.86      0.88       147\n",
      "            biking       0.87      0.91      0.89       244\n",
      "            diving       0.93      0.94      0.94       198\n",
      "        golf_swing       0.87      0.86      0.87       174\n",
      "      horse_riding       0.85      0.93      0.89       292\n",
      "   soccer_juggling       0.89      0.88      0.88       331\n",
      "             swing       0.92      0.87      0.90       206\n",
      "      tennis_swing       0.97      0.97      0.97       198\n",
      "trampoline_jumping       0.80      0.89      0.84       176\n",
      "volleyball_spiking       0.94      0.81      0.87       101\n",
      "           walking       0.86      0.77      0.81       207\n",
      "\n",
      "          accuracy                           0.89      2274\n",
      "         macro avg       0.89      0.88      0.89      2274\n",
      "      weighted avg       0.89      0.89      0.89      2274\n",
      "\n"
     ]
    },
    {
     "data": {
      "image/png": "[encoded data removed]",
      "text/plain": [
       "<Figure size 1100x1100 with 2 Axes>"
      ]
     },
     "metadata": {},
     "output_type": "display_data"
    }
   ],
   "source": [
    "# Define the hyperparameters\n",
    "vgg_epoch = 100\n",
    "learning_rate = 0.001\n",
    "batch_size = 32\n",
    "dropout_rate = 0.5\n",
    "\n",
    "# Call the function with the defined hyperparameters\n",
    "vgg19_training(vgg_epoch, learning_rate, batch_size, dropout_rate)\n",
    "\n",
    "\n",
    "import warnings\n",
    "\n",
    "# Menonaktifkan semua pesan peringatan\n",
    "warnings.filterwarnings('ignore')"
   ]
  },
  {
   "cell_type": "code",
   "execution_count": 20,
   "metadata": {},
   "outputs": [
    {
     "name": "stdout",
     "output_type": "stream",
     "text": [
      "[0.8869832893579596]\n"
     ]
    }
   ],
   "source": [
    "print(arr_accuracy19)"
   ]
  }
 ],
 "metadata": {
  "kernelspec": {
   "display_name": "Python 3",
   "language": "python",
   "name": "python3"
  },
  "language_info": {
   "codemirror_mode": {
    "name": "ipython",
    "version": 3
   },
   "file_extension": ".py",
   "mimetype": "text/x-python",
   "name": "python",
   "nbconvert_exporter": "python",
   "pygments_lexer": "ipython3",
   "version": "3.9.13"
  },
  "orig_nbformat": 4
 },
 "nbformat": 4,
 "nbformat_minor": 2
}
